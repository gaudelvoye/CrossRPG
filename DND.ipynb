{
 "cells": [
  {
   "cell_type": "code",
   "execution_count": 139,
   "metadata": {},
   "outputs": [],
   "source": [
    "import numpy as np\n",
    "import pandas as pd"
   ]
  },
  {
   "cell_type": "code",
   "execution_count": 140,
   "metadata": {},
   "outputs": [],
   "source": [
    "class Entite:\n",
    "    def __init__(self, Lvl, PV, CA, F, Dex, Con, Int, Sag, Cha, nom =\"\"):\n",
    "        self.Lvl = Lvl\n",
    "        self.PV = PV\n",
    "        self.CA = CA\n",
    "        self.F = F\n",
    "        self.Dex = Dex\n",
    "        self.Con = Con\n",
    "        self.Int = Int\n",
    "        self.Sag = Sag\n",
    "        self.Cha = Cha\n",
    "        self.f = self.modificateur(self.F)\n",
    "        self.dex = self.modificateur(self.Dex)\n",
    "        self.con = self.modificateur(self.Con)\n",
    "        self.int = self.modificateur(self.Int)\n",
    "        self.sag = self.modificateur(self.Sag)\n",
    "        self.cha = self.modificateur(self.Cha)\n",
    "        self.nom = nom\n",
    "\n",
    "    def modificateur(self, caracteristique):\n",
    "        return int(caracteristique/2 - 5)\n",
    "\n",
    "class ActionCombatSimple:\n",
    "    def __init__(self, nom, bonus_touche, degat):\n",
    "        self.nom = nom\n",
    "        self.bonus_touche = bonus_touche\n",
    "        self.degat = degat\n",
    "    def esperance(self, CA):\n",
    "        delta = self.bonus_touche - CA + 10\n",
    "        return (10+delta)/20 * self.degat\n",
    "    def __repr__(self):\n",
    "        return f\"{self.nom}. Touche : {self.bonus_touche}, Degat : {self.degat}\"\n",
    "\n",
    "class ActionMultiple:\n",
    "    def __init__(self, action_1, nombre_action_1, action_2 = \"Rien\", nombre_action_2 = 0):\n",
    "        self.nom = \"Multiple\"\n",
    "        self.action_1 = action_1\n",
    "        self.nombre_action_1 = nombre_action_1\n",
    "        self.action_2 = action_2\n",
    "        self.nombre_action_2 = nombre_action_2\n",
    "\n",
    "    def esperance(self, CA):\n",
    "        return self.action_1.esperance(CA)*self.nombre_action_1 + self.action_2.esperance(CA)*self.nombre_action_2\n",
    "\n",
    "    def __repr__(self):\n",
    "        return f\"Multiple. {self.action_1.nom} x {self.nombre_action_1}, {self.action_2.nom} x {self.nombre_action_2}\"\n",
    "        \n",
    "\n",
    "class Monstre(Entite):\n",
    "    def __init__(self, nom, Lvl, PV, CA, F, Dex, Con, Int, Sag, Cha, liste_action):\n",
    "        Entite.__init__(self, Lvl, PV, CA, F, Dex, Con, Int, Sag, Cha, nom)\n",
    "        self.actions = self.creation_actions(liste_action)\n",
    "\n",
    "    def meilleure_esperance(self, CA):\n",
    "        E = 0\n",
    "        for nom, action in self.actions.items():\n",
    "            if action.esperance(CA) > E:\n",
    "                E = action.esperance(CA)\n",
    "        return E\n",
    "    def creation_action(self, action, dico):\n",
    "        nom = action[0]\n",
    "        if nom != \"Multiple\":\n",
    "            nom, bonus_touche, degat = action\n",
    "            return ActionCombatSimple(nom, bonus_touche, degat)\n",
    "        else:\n",
    "            nom, nom_action_1, nombre_action_1, nom_action_2, nombre_action_2 = action\n",
    "            return ActionMultiple(dico[nom_action_1], nombre_action_1, dico[nom_action_2], nombre_action_2)\n",
    "\n",
    "    def creation_actions(self, liste_action):\n",
    "        dico = {}\n",
    "        dico[\"Rien\"] = ActionCombatSimple(\"Rien\", 0, 0)\n",
    "        for action in liste_action:\n",
    "            dico[action[0]] = self.creation_action(action, dico)\n",
    "        return dico\n",
    "\n",
    "class Combat:\n",
    "    def __init__(self, monstreA, monstreB):\n",
    "        self.monstreA = monstreA\n",
    "        self.monstreB = monstreB\n",
    "        #self.pA = self.proba_toucher_and_degat(self.monstreA.actions, self.monstreB.CA)[0]\n",
    "        #self.pB = self.proba_toucher_and_degat(self.monstreB.actions, self.monstreA.CA)[0]\n",
    "        #self.dA = self.proba_toucher_and_degat(self.monstreA.actions, self.monstreB.CA)[1]\n",
    "        #self.dB = self.proba_toucher_and_degat(self.monstreB.actions, self.monstreA.CA)[1]\n",
    "        self.res = self.resultat()\n",
    "\n",
    "    \n",
    "    def resultat(self):\n",
    "        setattr(self, \"esperanceA\", self.monstreA.meilleure_esperance(self.monstreB.CA))\n",
    "        setattr(self, \"esperanceB\", self.monstreB.meilleure_esperance(self.monstreA.CA))\n",
    "        a = self.esperanceA / self.esperanceB#self.pA * self.dA / (self.pB * self.dB)\n",
    "        b = self.monstreB.PV - a * self.monstreA.PV\n",
    "        nA = self.monstreA.PV / self.esperanceB #(self.pB * self.dB)\n",
    "        nB = self.monstreB.PV / self.esperanceA #(self.pA * self.dA)\n",
    "        if b <= 0:#vainqueur A ou égalité\n",
    "            n = int(nB + 1)\n",
    "            pv_A = self.monstreA.PV - n * self.esperanceB#self.pB * self.dB\n",
    "            setattr(self, \"n\", n)\n",
    "            setattr(self, \"PV_restant\", pv_A)\n",
    "            setattr(self, \"gagnant\", self.monstreA)\n",
    "            setattr(self, \"perdant\", self.monstreB)\n",
    "            setattr(self, \"degat_gagnant\", self.esperanceA)\n",
    "            setattr(self, \"degat_perdant\", self.esperanceB)\n",
    "        else:\n",
    "            n = int(nA + 1)\n",
    "            pv_B = self.monstreB.PV - n * self.esperanceA #self.pA * self.dA\n",
    "            setattr(self, \"n\", n)\n",
    "            setattr(self, \"PV_restant\", pv_B)\n",
    "            setattr(self, \"gagnant\", self.monstreA)\n",
    "            setattr(self, \"perdant\", self.monstreB)\n",
    "            setattr(self, \"degat_gagnant\", self.esperanceB)\n",
    "            setattr(self, \"degat_perdant\", self.esperanceA)\n",
    "    \n",
    "    def __repr__(self):\n",
    "        s = f\"Durée : {self.n}. Vainqueur : {self.gagnant.nom}, PV restants : {self.PV_restant}, degat/tour : {self.degat_gagnant}, Perdant : {self.perdant.nom}, degat/tour : {self.degat_perdant}\"\n",
    "        return s\n",
    "\n"
   ]
  },
  {
   "cell_type": "code",
   "execution_count": 149,
   "metadata": {},
   "outputs": [
    {
     "data": {
      "text/plain": [
       "\"['Serres', 4, 4]\""
      ]
     },
     "execution_count": 149,
     "metadata": {},
     "output_type": "execute_result"
    }
   ],
   "source": [
    "data = pd.read_csv('scrapper.csv')\n",
    "list(data.iloc[0])[1:-3][-1]"
   ]
  },
  {
   "cell_type": "code",
   "execution_count": 133,
   "metadata": {},
   "outputs": [
    {
     "data": {
      "text/plain": [
       "Multiple. Cimeterre x 2, Cimeterre x 0"
      ]
     },
     "execution_count": 133,
     "metadata": {},
     "output_type": "execute_result"
    }
   ],
   "source": [
    "cim = ActionCombatSimple(\"Cimeterre\", 4, 5)\n",
    "ActionMultiple(cim, 2, cim, 0)"
   ]
  },
  {
   "cell_type": "markdown",
   "metadata": {},
   "source": []
  },
  {
   "cell_type": "code",
   "execution_count": 134,
   "metadata": {},
   "outputs": [],
   "source": [
    "gobelin = Monstre(\"Gobelin\", 1/4, 7, 15, 8, 14, 10, 10, 8, 8, [[\"Cimeterre\", 4, 5], [\"Multiple\", \"Cimeterre\", 2, \"Rien\", 0]])\n",
    "gobelin2 = Monstre(\"Gobelin2\", 1/4, 7, 15, 8, 14, 10, 10, 8, 8, [[\"Cimeterre\", 4, 5]])\n",
    "grenouille = Monstre(\"Grenouille géante\", 1/4, 18, 11, 12, 13, 11, 2, 10, 3, [[\"Morsure\", 3, 4]])\n",
    "homme_poisson = Monstre(\"Homme-poisson\", 1/8, 11, 11, 10, 13, 12, 11, 11, 12, [[\"Lance\", 2, 4]])\n",
    "homme_lezard = Monstre(\"Homme-lézard\", 1/2, 22, 15, 15, 10, 13, 7, 12, 7, [[\"Multipl\", 4, 10]])\n",
    "gargouille = Monstre(\"Gargouille\", 2, 52, 15, 15, 11, 16, 6, 11, 7, [[\"Multipl\", 4, 10]])"
   ]
  },
  {
   "cell_type": "code",
   "execution_count": 135,
   "metadata": {},
   "outputs": [
    {
     "data": {
      "text/plain": [
       "7.0"
      ]
     },
     "execution_count": 135,
     "metadata": {},
     "output_type": "execute_result"
    }
   ],
   "source": [
    "gobelin.meilleure_esperance(10)"
   ]
  },
  {
   "cell_type": "code",
   "execution_count": 138,
   "metadata": {},
   "outputs": [
    {
     "data": {
      "text/plain": [
       "Durée : 2. Vainqueur : Gargouille, PV restants : 49.2, degat/tour : 6.5, Perdant : Homme-poisson, degat/tour : 1.4"
      ]
     },
     "execution_count": 138,
     "metadata": {},
     "output_type": "execute_result"
    }
   ],
   "source": [
    "c=Combat(gargouille, homme_poisson)\n",
    "c"
   ]
  },
  {
   "cell_type": "code",
   "execution_count": 85,
   "metadata": {},
   "outputs": [
    {
     "data": {
      "text/plain": [
       "22"
      ]
     },
     "execution_count": 85,
     "metadata": {},
     "output_type": "execute_result"
    }
   ],
   "source": [
    "homme_lezard.PV"
   ]
  },
  {
   "cell_type": "code",
   "execution_count": 86,
   "metadata": {},
   "outputs": [
    {
     "data": {
      "text/plain": [
       "22.5"
      ]
     },
     "execution_count": 86,
     "metadata": {},
     "output_type": "execute_result"
    }
   ],
   "source": [
    "4.5*5"
   ]
  },
  {
   "cell_type": "code",
   "execution_count": 16,
   "metadata": {},
   "outputs": [
    {
     "data": {
      "text/plain": [
       "Vainqueur : Gargouille, PV restants : 47.5, durée : 2"
      ]
     },
     "execution_count": 16,
     "metadata": {},
     "output_type": "execute_result"
    }
   ],
   "source": [
    "c=Combat(gobelin, gargouille)\n",
    "c"
   ]
  },
  {
   "cell_type": "code",
   "execution_count": 44,
   "metadata": {},
   "outputs": [
    {
     "name": "stdout",
     "output_type": "stream",
     "text": [
      "<class 'str'>\n"
     ]
    }
   ],
   "source": [
    "u=\"rr\"\n",
    "print(type(u))"
   ]
  },
  {
   "cell_type": "code",
   "execution_count": null,
   "metadata": {},
   "outputs": [],
   "source": []
  }
 ],
 "metadata": {
  "kernelspec": {
   "display_name": "Python 3.10.8 64-bit (microsoft store)",
   "language": "python",
   "name": "python3"
  },
  "language_info": {
   "codemirror_mode": {
    "name": "ipython",
    "version": 3
   },
   "file_extension": ".py",
   "mimetype": "text/x-python",
   "name": "python",
   "nbconvert_exporter": "python",
   "pygments_lexer": "ipython3",
   "version": "3.10.8"
  },
  "orig_nbformat": 4,
  "vscode": {
   "interpreter": {
    "hash": "6eeb58cd8aafb728403c09466eb36196a093bec2b6f83df6e93ac15f13463947"
   }
  }
 },
 "nbformat": 4,
 "nbformat_minor": 2
}
